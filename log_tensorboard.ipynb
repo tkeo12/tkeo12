{
 "cells": [
  {
   "cell_type": "code",
   "execution_count": 2,
   "id": "3a21d184-f8ce-48ad-b240-74c02160cf54",
   "metadata": {
    "tags": []
   },
   "outputs": [
    {
     "name": "stdout",
     "output_type": "stream",
     "text": [
      "Model: \"sequential\"\n",
      "_________________________________________________________________\n",
      " Layer (type)                Output Shape              Param #   \n",
      "=================================================================\n",
      " conv2d (Conv2D)             (None, 28, 28, 32)        320       \n",
      "                                                                 \n",
      " max_pooling2d (MaxPooling2D  (None, 14, 14, 32)       0         \n",
      " )                                                               \n",
      "                                                                 \n",
      " flatten (Flatten)           (None, 6272)              0         \n",
      "                                                                 \n",
      " dense (Dense)               (None, 128)               802944    \n",
      "                                                                 \n",
      " dense_1 (Dense)             (None, 10)                1290      \n",
      "                                                                 \n",
      "=================================================================\n",
      "Total params: 804,554\n",
      "Trainable params: 804,554\n",
      "Non-trainable params: 0\n",
      "_________________________________________________________________\n",
      "Epoch 1/3\n",
      "1875/1875 [==============================] - 12s 6ms/step - loss: 0.3846 - accuracy: 0.8644 - val_loss: 0.3280 - val_accuracy: 0.8770\n",
      "Epoch 2/3\n",
      "1875/1875 [==============================] - 8s 4ms/step - loss: 0.2601 - accuracy: 0.9056 - val_loss: 0.2612 - val_accuracy: 0.9027\n",
      "Epoch 3/3\n",
      "1875/1875 [==============================] - 8s 4ms/step - loss: 0.2177 - accuracy: 0.9200 - val_loss: 0.2544 - val_accuracy: 0.9082\n"
     ]
    },
    {
     "data": {
      "text/plain": [
       "<keras.callbacks.History at 0x27671637580>"
      ]
     },
     "execution_count": 2,
     "metadata": {},
     "output_type": "execute_result"
    }
   ],
   "source": [
    "import tensorflow as tf\n",
    "import numpy as np\n",
    "\n",
    "(trainX, trainY), (testX, testY) = tf.keras.datasets.fashion_mnist.load_data()\n",
    "\n",
    "trainX = trainX / 255.0\n",
    "testX = testX / 255.0\n",
    "\n",
    "trainX = trainX.reshape( (trainX.shape[0], 28,28,1) )\n",
    "testX = testX.reshape( (testX.shape[0], 28,28,1) )\n",
    "\n",
    "\n",
    "model=tf.keras.Sequential([\n",
    "    tf.keras.layers.Conv2D(32,(3,3),padding=\"same\",activation='relu',input_shape=(28,28,1)), #이미지데이터는 0~255 숫자 , 음수 내보내지 않기 위해 // input_shape 컬러사진일때는 28,28,3 (RGB 때문)\n",
    "    tf.keras.layers.MaxPooling2D((2,2)),\n",
    "    # tf.keras.layers.Dense(128,input_shape=(28,28),activation=\"relu\"),\n",
    "    \n",
    "    tf.keras.layers.Flatten(), # 2d data -> 1d data\n",
    "    tf.keras.layers.Dense(128,activation=\"relu\"),\n",
    "    tf.keras.layers.Dense(10,activation=\"softmax\"), # convol 2D > pool layer > flatten > dense\n",
    "])  \n",
    "#sigmoid = binary prediction (finally number of node = 1)\n",
    "#softmax = category prediction (finally number of node > 1)\n",
    "model.summary()\n",
    "\n",
    "model.compile(loss=\"sparse_categorical_crossentropy\", optimizer=\"adam\",metrics=['accuracy'])\n",
    "# sparse_categorical_crossentropy = category prediction 정수로 인코딩 되어있을때 (0,1,2,...)\n",
    "# categorical_crossentropy = category prediction 는 Y데이터가 원핫인코딩 되어있을때 (0 , 1)\n",
    "\n",
    "from tensorflow.keras.callbacks import TensorBoard\n",
    "import time\n",
    "\n",
    "tensorboard=tf.keras.callbacks.TensorBoard(log_dir='logs/{}'.format('첫모델'+str(int(time.time()))))\n",
    "\n",
    "model.fit(trainX,trainY,validation_data=(testX,testY),epochs=3, callbacks=[tensorboard]) # epoch 1회 끝날 때마다 채점 model.fit 안에 validation_data=(X,Y)\n"
   ]
  },
  {
   "cell_type": "code",
   "execution_count": 3,
   "id": "5f99b4b9-a9f6-453f-9cd5-ee87eda3a3d5",
   "metadata": {
    "tags": []
   },
   "outputs": [
    {
     "name": "stdout",
     "output_type": "stream",
     "text": [
      "Model: \"sequential_1\"\n",
      "_________________________________________________________________\n",
      " Layer (type)                Output Shape              Param #   \n",
      "=================================================================\n",
      " conv2d_1 (Conv2D)           (None, 28, 28, 32)        320       \n",
      "                                                                 \n",
      " max_pooling2d_1 (MaxPooling  (None, 14, 14, 32)       0         \n",
      " 2D)                                                             \n",
      "                                                                 \n",
      " conv2d_2 (Conv2D)           (None, 14, 14, 64)        18496     \n",
      "                                                                 \n",
      " max_pooling2d_2 (MaxPooling  (None, 7, 7, 64)         0         \n",
      " 2D)                                                             \n",
      "                                                                 \n",
      " flatten_1 (Flatten)         (None, 3136)              0         \n",
      "                                                                 \n",
      " dense_2 (Dense)             (None, 128)               401536    \n",
      "                                                                 \n",
      " dense_3 (Dense)             (None, 10)                1290      \n",
      "                                                                 \n",
      "=================================================================\n",
      "Total params: 421,642\n",
      "Trainable params: 421,642\n",
      "Non-trainable params: 0\n",
      "_________________________________________________________________\n",
      "Epoch 1/300\n",
      "1875/1875 [==============================] - 13s 7ms/step - loss: 0.4019 - accuracy: 0.8557 - val_loss: 0.3208 - val_accuracy: 0.8847\n",
      "Epoch 2/300\n",
      "1875/1875 [==============================] - 10s 6ms/step - loss: 0.2638 - accuracy: 0.9042 - val_loss: 0.2748 - val_accuracy: 0.8991\n",
      "Epoch 3/300\n",
      "1875/1875 [==============================] - 10s 5ms/step - loss: 0.2205 - accuracy: 0.9174 - val_loss: 0.2634 - val_accuracy: 0.8998\n",
      "Epoch 4/300\n",
      "1875/1875 [==============================] - 10s 5ms/step - loss: 0.1876 - accuracy: 0.9305 - val_loss: 0.2446 - val_accuracy: 0.9107\n",
      "Epoch 5/300\n",
      "1875/1875 [==============================] - 11s 6ms/step - loss: 0.1606 - accuracy: 0.9405 - val_loss: 0.2334 - val_accuracy: 0.9164\n",
      "Epoch 6/300\n",
      "1875/1875 [==============================] - 10s 5ms/step - loss: 0.1361 - accuracy: 0.9494 - val_loss: 0.2308 - val_accuracy: 0.9208\n",
      "Epoch 7/300\n",
      "1875/1875 [==============================] - 10s 5ms/step - loss: 0.1124 - accuracy: 0.9583 - val_loss: 0.2574 - val_accuracy: 0.9173\n",
      "Epoch 8/300\n",
      "1875/1875 [==============================] - 14s 8ms/step - loss: 0.0948 - accuracy: 0.9650 - val_loss: 0.2907 - val_accuracy: 0.9125\n",
      "Epoch 9/300\n",
      "1875/1875 [==============================] - 9s 5ms/step - loss: 0.0791 - accuracy: 0.9702 - val_loss: 0.2993 - val_accuracy: 0.9214\n",
      "Epoch 10/300\n",
      "1875/1875 [==============================] - 9s 5ms/step - loss: 0.0679 - accuracy: 0.9748 - val_loss: 0.3406 - val_accuracy: 0.9194\n",
      "Epoch 11/300\n",
      "1875/1875 [==============================] - 9s 5ms/step - loss: 0.0564 - accuracy: 0.9786 - val_loss: 0.3229 - val_accuracy: 0.9242\n",
      "Epoch 12/300\n",
      "1875/1875 [==============================] - 9s 5ms/step - loss: 0.0485 - accuracy: 0.9819 - val_loss: 0.3376 - val_accuracy: 0.9247\n",
      "Epoch 13/300\n",
      "1875/1875 [==============================] - 11s 6ms/step - loss: 0.0424 - accuracy: 0.9846 - val_loss: 0.3691 - val_accuracy: 0.9209\n",
      "Epoch 14/300\n",
      "1875/1875 [==============================] - 13s 7ms/step - loss: 0.0379 - accuracy: 0.9862 - val_loss: 0.3923 - val_accuracy: 0.9190\n",
      "Epoch 15/300\n",
      "1875/1875 [==============================] - 14s 7ms/step - loss: 0.0317 - accuracy: 0.9883 - val_loss: 0.4188 - val_accuracy: 0.9202\n",
      "Epoch 16/300\n",
      "1875/1875 [==============================] - 12s 7ms/step - loss: 0.0307 - accuracy: 0.9884 - val_loss: 0.4859 - val_accuracy: 0.9182\n",
      "Epoch 17/300\n",
      "1875/1875 [==============================] - 11s 6ms/step - loss: 0.0300 - accuracy: 0.9891 - val_loss: 0.4481 - val_accuracy: 0.9211\n"
     ]
    },
    {
     "data": {
      "text/plain": [
       "<keras.callbacks.History at 0x27673c77220>"
      ]
     },
     "execution_count": 3,
     "metadata": {},
     "output_type": "execute_result"
    }
   ],
   "source": [
    "model=tf.keras.Sequential([\n",
    "    tf.keras.layers.Conv2D(32,(3,3),padding=\"same\",activation='relu',input_shape=(28,28,1)), #이미지데이터는 0~255 숫자 , 음수 내보내지 않기 위해 // input_shape 컬러사진일때는 28,28,3 (RGB 때문)\n",
    "    tf.keras.layers.MaxPooling2D((2,2)),\n",
    "    tf.keras.layers.Conv2D(64,(3,3),padding=\"same\",activation='relu',input_shape=(28,28,1)), #이미지데이터는 0~255 숫자 , 음수 내보내지 않기 위해 // input_shape 컬러사진일때는 28,28,3 (RGB 때문)\n",
    "    tf.keras.layers.MaxPooling2D((2,2)),\n",
    "    # tf.keras.layers.Dense(128,input_shape=(28,28),activation=\"relu\"),\n",
    "    \n",
    "    tf.keras.layers.Flatten(), # 2d data -> 1d data\n",
    "    tf.keras.layers.Dense(128,activation=\"relu\"),\n",
    "    tf.keras.layers.Dense(10,activation=\"softmax\"), # convol 2D > pool layer > flatten > dense\n",
    "])  \n",
    "#sigmoid = binary prediction (finally number of node = 1)\n",
    "#softmax = category prediction (finally number of node > 1)\n",
    "model.summary()\n",
    "\n",
    "model.compile(loss=\"sparse_categorical_crossentropy\", optimizer=\"adam\",metrics=['accuracy'])\n",
    "# sparse_categorical_crossentropy = category prediction 정수로 인코딩 되어있을때 (0,1,2,...)\n",
    "# categorical_crossentropy = category prediction 는 Y데이터가 원핫인코딩 되어있을때 (0 , 1)\n",
    "\n",
    "from tensorflow.keras.callbacks import TensorBoard\n",
    "import time\n",
    "\n",
    "tensorboard=tf.keras.callbacks.TensorBoard(log_dir='logs/{}'.format('conv2번한모델'+str(int(time.time()))))\n",
    "\n",
    "#earlystopping\n",
    "from tensorflow.keras.callbacks import EarlyStopping\n",
    "\n",
    "es=EarlyStopping(monitor='val_accuracy',patience=5,mode='max')\n",
    "\n",
    "model.fit(trainX,trainY,validation_data=(testX,testY),epochs=300, callbacks=[tensorboard,es]) # epoch 1회 끝날 때마다 채점 model.fit 안에 validation_data=(X,Y)"
   ]
  },
  {
   "cell_type": "code",
   "execution_count": null,
   "id": "45195580-d5de-4820-9dac-c52d1a8464bb",
   "metadata": {},
   "outputs": [],
   "source": []
  }
 ],
 "metadata": {
  "kernelspec": {
   "display_name": "tf",
   "language": "python",
   "name": "tf"
  },
  "language_info": {
   "codemirror_mode": {
    "name": "ipython",
    "version": 3
   },
   "file_extension": ".py",
   "mimetype": "text/x-python",
   "name": "python",
   "nbconvert_exporter": "python",
   "pygments_lexer": "ipython3",
   "version": "3.10.0"
  }
 },
 "nbformat": 4,
 "nbformat_minor": 5
}
