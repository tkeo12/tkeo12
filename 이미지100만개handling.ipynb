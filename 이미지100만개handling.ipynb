{
 "cells": [
  {
   "cell_type": "code",
   "execution_count": 1,
   "id": "aaf7acb3-e700-4627-aa0f-dd13a277ce91",
   "metadata": {},
   "outputs": [
    {
     "name": "stdout",
     "output_type": "stream",
     "text": [
      "Requirement already satisfied: Pillow in c:\\users\\tkeo1\\anaconda3\\envs\\tf\\lib\\site-packages (10.0.1)\n",
      "Note: you may need to restart the kernel to use updated packages.\n"
     ]
    }
   ],
   "source": [
    "pip install Pillow"
   ]
  },
  {
   "cell_type": "code",
   "execution_count": 9,
   "id": "b6d210b5-9e83-4f17-a14c-7fd26400045e",
   "metadata": {},
   "outputs": [],
   "source": [
    "from PIL import Image"
   ]
  },
  {
   "cell_type": "code",
   "execution_count": 25,
   "id": "3c492ee2-757c-4ac4-a587-c3c06d179dd8",
   "metadata": {},
   "outputs": [],
   "source": [
    "import os\n",
    "경로=os.getcwd()"
   ]
  },
  {
   "cell_type": "code",
   "execution_count": 26,
   "id": "66253839-bd13-451b-94d3-1cfd2d88a5b0",
   "metadata": {},
   "outputs": [
    {
     "name": "stdout",
     "output_type": "stream",
     "text": [
      "['photo1.jpg', 'photo2.jpg', 'photo3.jpg', 'photo4.jpg']\n"
     ]
    }
   ],
   "source": [
    "import os\n",
    "파일명들=os.listdir(경로+'/data/images/')\n",
    "print(파일명들)\n",
    "\n",
    "for i in 파일명들:\n",
    "    img=Image.open('data/images/'+i)\n",
    "    img.thumbnail((500,2500))\n",
    "    img.save('new_'+i)"
   ]
  },
  {
   "cell_type": "code",
   "execution_count": null,
   "id": "5e0323d3-3180-43e2-b79e-bb90c332c4d6",
   "metadata": {},
   "outputs": [],
   "source": []
  }
 ],
 "metadata": {
  "kernelspec": {
   "display_name": "tf",
   "language": "python",
   "name": "tf"
  },
  "language_info": {
   "codemirror_mode": {
    "name": "ipython",
    "version": 3
   },
   "file_extension": ".py",
   "mimetype": "text/x-python",
   "name": "python",
   "nbconvert_exporter": "python",
   "pygments_lexer": "ipython3",
   "version": "3.10.0"
  }
 },
 "nbformat": 4,
 "nbformat_minor": 5
}
