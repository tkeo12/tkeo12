{
 "cells": [
  {
   "cell_type": "code",
   "execution_count": 1,
   "id": "4adf5dd3-7817-48df-b372-3093056c7c0c",
   "metadata": {},
   "outputs": [],
   "source": [
    "text = open('C:/Users/tkeo1/OneDrive/바탕 화면/coding/Python/data/pianoabc.txt','r').read()\n",
    "# print(text)\n",
    "\n",
    "text_uq = list(set(text)) # 리스트랑 비슷한데 중복자료 허용 x\n",
    "text_uq. sort()\n",
    "# print(text_uq)"
   ]
  },
  {
   "cell_type": "code",
   "execution_count": 2,
   "id": "d47b0b34-db88-4527-b8d3-8f93fc1c382f",
   "metadata": {},
   "outputs": [
    {
     "name": "stdout",
     "output_type": "stream",
     "text": [
      "/\n"
     ]
    }
   ],
   "source": [
    "# utilities\n",
    "text_to_num = {}\n",
    "num_to_text={}\n",
    "\n",
    "for i, data in enumerate(text_uq):\n",
    "    text_to_num[data]=i\n",
    "    num_to_text[i]=data\n",
    "\n",
    "# print(text_to_num)\n",
    "print(num_to_text[3])"
   ]
  },
  {
   "cell_type": "code",
   "execution_count": 3,
   "id": "d44c1111-795b-4bd7-9d46-80138adf4b41",
   "metadata": {},
   "outputs": [],
   "source": [
    "text_nu=[] # 원본데이터를 숫자로 바꾸기\n",
    "\n",
    "for i in text:\n",
    "    text_nu.append(text_to_num[i])\n",
    "\n",
    "# print(text_nu)"
   ]
  },
  {
   "cell_type": "code",
   "execution_count": 4,
   "id": "6f1081a3-b882-4d47-8c65-e38401e01ba3",
   "metadata": {},
   "outputs": [
    {
     "name": "stdout",
     "output_type": "stream",
     "text": [
      "[[27, 0, 20, 0, 26, 5, 15, 0, 17, 0, 14, 6, 3, 5, 15, 3, 5, 25, 0, 20, 0, 15, 5, 20, 0], [0, 20, 0, 26, 5, 15, 0, 17, 0, 14, 6, 3, 5, 15, 3, 5, 25, 0, 20, 0, 15, 5, 20, 0, 17], [20, 0, 26, 5, 15, 0, 17, 0, 14, 6, 3, 5, 15, 3, 5, 25, 0, 20, 0, 15, 5, 20, 0, 17, 0], [0, 26, 5, 15, 0, 17, 0, 14, 6, 3, 5, 15, 3, 5, 25, 0, 20, 0, 15, 5, 20, 0, 17, 0, 14], [26, 5, 15, 0, 17, 0, 14, 6, 3, 5, 15, 3, 5, 25, 0, 20, 0, 15, 5, 20, 0, 17, 0, 14, 5]]\n",
      "[17, 0, 14, 5, 27]\n",
      "(291997, 25)\n"
     ]
    }
   ],
   "source": [
    "X=[]\n",
    "Y=[]\n",
    "\n",
    "for i in range(0,len(text_nu) - 25):\n",
    "    X.append(text_nu[i:i+25])\n",
    "    Y.append(text_nu[i+25])\n",
    "\n",
    "print(X[0:5])\n",
    "print(Y[0:5])\n",
    "\n",
    "import numpy as np\n",
    "print(np.array(X).shape)"
   ]
  },
  {
   "cell_type": "code",
   "execution_count": 5,
   "id": "5362086f-b2cb-4660-ad7c-a714d5de312d",
   "metadata": {},
   "outputs": [
    {
     "name": "stdout",
     "output_type": "stream",
     "text": [
      "tf.Tensor(\n",
      "[[[0. 0. 0. ... 0. 0. 0.]\n",
      "  [1. 0. 0. ... 0. 0. 0.]\n",
      "  [0. 0. 0. ... 0. 0. 0.]\n",
      "  ...\n",
      "  [0. 0. 0. ... 0. 0. 0.]\n",
      "  [0. 0. 0. ... 0. 0. 0.]\n",
      "  [1. 0. 0. ... 0. 0. 0.]]\n",
      "\n",
      " [[1. 0. 0. ... 0. 0. 0.]\n",
      "  [0. 0. 0. ... 0. 0. 0.]\n",
      "  [1. 0. 0. ... 0. 0. 0.]\n",
      "  ...\n",
      "  [0. 0. 0. ... 0. 0. 0.]\n",
      "  [1. 0. 0. ... 0. 0. 0.]\n",
      "  [0. 0. 0. ... 0. 0. 0.]]], shape=(2, 25, 31), dtype=float32)\n"
     ]
    }
   ],
   "source": [
    "# one hot encoding\n",
    "import tensorflow as tf\n",
    "X = tf.one_hot(X,31)\n",
    "Y = tf.one_hot(Y,31)\n",
    "\n",
    "print(X[0:2])"
   ]
  },
  {
   "cell_type": "code",
   "execution_count": 8,
   "id": "fd8d3801-e127-4e25-831d-110c8c5d0111",
   "metadata": {},
   "outputs": [
    {
     "data": {
      "text/plain": [
       "'C:\\\\Users\\\\tkeo1\\\\OneDrive\\\\바탕 화면\\\\coding\\\\Python'"
      ]
     },
     "execution_count": 8,
     "metadata": {},
     "output_type": "execute_result"
    }
   ],
   "source": [
    "import os\n",
    "os.getcwd()"
   ]
  },
  {
   "cell_type": "code",
   "execution_count": 11,
   "id": "7cfb2422-0d6c-423a-b681-a3b375e8ef21",
   "metadata": {},
   "outputs": [
    {
     "name": "stdout",
     "output_type": "stream",
     "text": [
      "Epoch 1/100\n",
      "4563/4563 - 37s - loss: 1.6017 - accuracy: 0.4982 - 37s/epoch - 8ms/step\n",
      "Epoch 2/100\n",
      "4563/4563 - 37s - loss: 1.2947 - accuracy: 0.5743 - 37s/epoch - 8ms/step\n",
      "Epoch 3/100\n",
      "4563/4563 - 36s - loss: 1.1982 - accuracy: 0.6055 - 36s/epoch - 8ms/step\n",
      "Epoch 4/100\n",
      "4563/4563 - 35s - loss: 1.1398 - accuracy: 0.6256 - 35s/epoch - 8ms/step\n",
      "Epoch 5/100\n",
      "4563/4563 - 35s - loss: 1.1021 - accuracy: 0.6383 - 35s/epoch - 8ms/step\n",
      "Epoch 6/100\n",
      "4563/4563 - 35s - loss: 1.0733 - accuracy: 0.6469 - 35s/epoch - 8ms/step\n",
      "Epoch 7/100\n",
      "4563/4563 - 36s - loss: 1.0500 - accuracy: 0.6543 - 36s/epoch - 8ms/step\n",
      "Epoch 8/100\n",
      "4563/4563 - 35s - loss: 1.0299 - accuracy: 0.6614 - 35s/epoch - 8ms/step\n",
      "Epoch 9/100\n",
      "4563/4563 - 35s - loss: 1.0130 - accuracy: 0.6662 - 35s/epoch - 8ms/step\n",
      "Epoch 10/100\n",
      "4563/4563 - 34s - loss: 0.9984 - accuracy: 0.6708 - 34s/epoch - 8ms/step\n",
      "Epoch 11/100\n",
      "4563/4563 - 35s - loss: 0.9843 - accuracy: 0.6757 - 35s/epoch - 8ms/step\n",
      "Epoch 12/100\n",
      "4563/4563 - 36s - loss: 0.9724 - accuracy: 0.6794 - 36s/epoch - 8ms/step\n",
      "Epoch 13/100\n",
      "4563/4563 - 35s - loss: 0.9610 - accuracy: 0.6840 - 35s/epoch - 8ms/step\n",
      "Epoch 14/100\n",
      "4563/4563 - 34s - loss: 0.9509 - accuracy: 0.6867 - 34s/epoch - 7ms/step\n",
      "Epoch 15/100\n",
      "4563/4563 - 34s - loss: 0.9402 - accuracy: 0.6906 - 34s/epoch - 7ms/step\n",
      "Epoch 16/100\n",
      "4563/4563 - 34s - loss: 0.9315 - accuracy: 0.6935 - 34s/epoch - 7ms/step\n",
      "Epoch 17/100\n",
      "4563/4563 - 34s - loss: 0.9224 - accuracy: 0.6954 - 34s/epoch - 7ms/step\n",
      "Epoch 18/100\n",
      "4563/4563 - 34s - loss: 0.9144 - accuracy: 0.6985 - 34s/epoch - 7ms/step\n",
      "Epoch 19/100\n",
      "4563/4563 - 34s - loss: 0.9065 - accuracy: 0.7017 - 34s/epoch - 7ms/step\n",
      "Epoch 20/100\n",
      "4563/4563 - 35s - loss: 0.8991 - accuracy: 0.7041 - 35s/epoch - 8ms/step\n",
      "Epoch 21/100\n",
      "4563/4563 - 35s - loss: 0.8929 - accuracy: 0.7068 - 35s/epoch - 8ms/step\n",
      "Epoch 22/100\n",
      "4563/4563 - 35s - loss: 0.8862 - accuracy: 0.7083 - 35s/epoch - 8ms/step\n",
      "Epoch 23/100\n",
      "4563/4563 - 34s - loss: 0.8805 - accuracy: 0.7098 - 34s/epoch - 7ms/step\n",
      "Epoch 24/100\n",
      "4563/4563 - 34s - loss: 0.8745 - accuracy: 0.7130 - 34s/epoch - 7ms/step\n",
      "Epoch 25/100\n",
      "4563/4563 - 34s - loss: 0.8690 - accuracy: 0.7142 - 34s/epoch - 7ms/step\n",
      "Epoch 26/100\n",
      "4563/4563 - 34s - loss: 0.8638 - accuracy: 0.7163 - 34s/epoch - 7ms/step\n",
      "Epoch 27/100\n",
      "4563/4563 - 34s - loss: 0.8596 - accuracy: 0.7179 - 34s/epoch - 7ms/step\n",
      "Epoch 28/100\n",
      "4563/4563 - 33s - loss: 0.8537 - accuracy: 0.7203 - 33s/epoch - 7ms/step\n",
      "Epoch 29/100\n",
      "4563/4563 - 34s - loss: 0.8499 - accuracy: 0.7213 - 34s/epoch - 7ms/step\n",
      "Epoch 30/100\n",
      "4563/4563 - 33s - loss: 0.8454 - accuracy: 0.7222 - 33s/epoch - 7ms/step\n",
      "Epoch 31/100\n",
      "4563/4563 - 33s - loss: 0.8412 - accuracy: 0.7247 - 33s/epoch - 7ms/step\n",
      "Epoch 32/100\n",
      "4563/4563 - 33s - loss: 0.8380 - accuracy: 0.7254 - 33s/epoch - 7ms/step\n",
      "Epoch 33/100\n",
      "4563/4563 - 33s - loss: 0.8341 - accuracy: 0.7266 - 33s/epoch - 7ms/step\n",
      "Epoch 34/100\n",
      "4563/4563 - 33s - loss: 0.8303 - accuracy: 0.7285 - 33s/epoch - 7ms/step\n",
      "Epoch 35/100\n",
      "4563/4563 - 33s - loss: 0.8277 - accuracy: 0.7287 - 33s/epoch - 7ms/step\n",
      "Epoch 36/100\n",
      "4563/4563 - 33s - loss: 0.8235 - accuracy: 0.7302 - 33s/epoch - 7ms/step\n",
      "Epoch 37/100\n",
      "4563/4563 - 33s - loss: 0.8210 - accuracy: 0.7310 - 33s/epoch - 7ms/step\n",
      "Epoch 38/100\n",
      "4563/4563 - 33s - loss: 0.8188 - accuracy: 0.7315 - 33s/epoch - 7ms/step\n",
      "Epoch 39/100\n",
      "4563/4563 - 33s - loss: 0.8167 - accuracy: 0.7319 - 33s/epoch - 7ms/step\n",
      "Epoch 40/100\n",
      "4563/4563 - 34s - loss: 0.8133 - accuracy: 0.7338 - 34s/epoch - 8ms/step\n",
      "Epoch 41/100\n",
      "4563/4563 - 33s - loss: 0.8111 - accuracy: 0.7341 - 33s/epoch - 7ms/step\n",
      "Epoch 42/100\n",
      "4563/4563 - 36s - loss: 0.8080 - accuracy: 0.7351 - 36s/epoch - 8ms/step\n",
      "Epoch 43/100\n",
      "4563/4563 - 34s - loss: 0.8063 - accuracy: 0.7362 - 34s/epoch - 7ms/step\n",
      "Epoch 44/100\n",
      "4563/4563 - 33s - loss: 0.8040 - accuracy: 0.7366 - 33s/epoch - 7ms/step\n",
      "Epoch 45/100\n",
      "4563/4563 - 33s - loss: 0.8013 - accuracy: 0.7374 - 33s/epoch - 7ms/step\n",
      "Epoch 46/100\n",
      "4563/4563 - 34s - loss: 0.8002 - accuracy: 0.7372 - 34s/epoch - 7ms/step\n",
      "Epoch 47/100\n",
      "4563/4563 - 33s - loss: 0.7981 - accuracy: 0.7388 - 33s/epoch - 7ms/step\n",
      "Epoch 48/100\n",
      "4563/4563 - 34s - loss: 0.7960 - accuracy: 0.7393 - 34s/epoch - 7ms/step\n",
      "Epoch 49/100\n",
      "4563/4563 - 34s - loss: 0.7946 - accuracy: 0.7399 - 34s/epoch - 7ms/step\n",
      "Epoch 50/100\n",
      "4563/4563 - 33s - loss: 0.7922 - accuracy: 0.7404 - 33s/epoch - 7ms/step\n",
      "Epoch 51/100\n",
      "4563/4563 - 33s - loss: 0.7907 - accuracy: 0.7405 - 33s/epoch - 7ms/step\n",
      "Epoch 52/100\n",
      "4563/4563 - 33s - loss: 0.7891 - accuracy: 0.7422 - 33s/epoch - 7ms/step\n",
      "Epoch 53/100\n",
      "4563/4563 - 33s - loss: 0.7882 - accuracy: 0.7426 - 33s/epoch - 7ms/step\n",
      "Epoch 54/100\n",
      "4563/4563 - 33s - loss: 0.7865 - accuracy: 0.7425 - 33s/epoch - 7ms/step\n",
      "Epoch 55/100\n",
      "4563/4563 - 33s - loss: 0.7859 - accuracy: 0.7436 - 33s/epoch - 7ms/step\n",
      "Epoch 56/100\n",
      "4563/4563 - 33s - loss: 0.7841 - accuracy: 0.7441 - 33s/epoch - 7ms/step\n",
      "Epoch 57/100\n",
      "4563/4563 - 33s - loss: 0.7823 - accuracy: 0.7437 - 33s/epoch - 7ms/step\n",
      "Epoch 58/100\n",
      "4563/4563 - 33s - loss: 0.7816 - accuracy: 0.7444 - 33s/epoch - 7ms/step\n",
      "Epoch 59/100\n",
      "4563/4563 - 33s - loss: 0.7797 - accuracy: 0.7449 - 33s/epoch - 7ms/step\n",
      "Epoch 60/100\n",
      "4563/4563 - 34s - loss: 0.7787 - accuracy: 0.7445 - 34s/epoch - 7ms/step\n",
      "Epoch 61/100\n",
      "4563/4563 - 35s - loss: 0.7784 - accuracy: 0.7448 - 35s/epoch - 8ms/step\n",
      "Epoch 62/100\n",
      "4563/4563 - 35s - loss: 0.7772 - accuracy: 0.7455 - 35s/epoch - 8ms/step\n",
      "Epoch 63/100\n",
      "4563/4563 - 35s - loss: 0.7752 - accuracy: 0.7467 - 35s/epoch - 8ms/step\n",
      "Epoch 64/100\n",
      "4563/4563 - 35s - loss: 0.7746 - accuracy: 0.7464 - 35s/epoch - 8ms/step\n",
      "Epoch 65/100\n",
      "4563/4563 - 36s - loss: 0.7732 - accuracy: 0.7472 - 36s/epoch - 8ms/step\n",
      "Epoch 66/100\n",
      "4563/4563 - 35s - loss: 0.7722 - accuracy: 0.7468 - 35s/epoch - 8ms/step\n",
      "Epoch 67/100\n",
      "4563/4563 - 35s - loss: 0.7718 - accuracy: 0.7472 - 35s/epoch - 8ms/step\n",
      "Epoch 68/100\n",
      "4563/4563 - 35s - loss: 0.7699 - accuracy: 0.7479 - 35s/epoch - 8ms/step\n",
      "Epoch 69/100\n",
      "4563/4563 - 35s - loss: 0.7702 - accuracy: 0.7475 - 35s/epoch - 8ms/step\n",
      "Epoch 70/100\n",
      "4563/4563 - 35s - loss: 0.7688 - accuracy: 0.7478 - 35s/epoch - 8ms/step\n",
      "Epoch 71/100\n",
      "4563/4563 - 34s - loss: 0.7687 - accuracy: 0.7480 - 34s/epoch - 7ms/step\n",
      "Epoch 72/100\n",
      "4563/4563 - 35s - loss: 0.7672 - accuracy: 0.7491 - 35s/epoch - 8ms/step\n",
      "Epoch 73/100\n",
      "4563/4563 - 35s - loss: 0.7665 - accuracy: 0.7493 - 35s/epoch - 8ms/step\n",
      "Epoch 74/100\n",
      "4563/4563 - 35s - loss: 0.7662 - accuracy: 0.7491 - 35s/epoch - 8ms/step\n",
      "Epoch 75/100\n",
      "4563/4563 - 35s - loss: 0.7658 - accuracy: 0.7492 - 35s/epoch - 8ms/step\n",
      "Epoch 76/100\n",
      "4563/4563 - 35s - loss: 0.7648 - accuracy: 0.7500 - 35s/epoch - 8ms/step\n",
      "Epoch 77/100\n",
      "4563/4563 - 35s - loss: 0.7648 - accuracy: 0.7499 - 35s/epoch - 8ms/step\n",
      "Epoch 78/100\n",
      "4563/4563 - 35s - loss: 0.7637 - accuracy: 0.7500 - 35s/epoch - 8ms/step\n",
      "Epoch 79/100\n",
      "4563/4563 - 35s - loss: 0.7629 - accuracy: 0.7501 - 35s/epoch - 8ms/step\n",
      "Epoch 80/100\n",
      "4563/4563 - 35s - loss: 0.7612 - accuracy: 0.7511 - 35s/epoch - 8ms/step\n",
      "Epoch 81/100\n",
      "4563/4563 - 35s - loss: 0.7615 - accuracy: 0.7510 - 35s/epoch - 8ms/step\n",
      "Epoch 82/100\n",
      "4563/4563 - 35s - loss: 0.7601 - accuracy: 0.7508 - 35s/epoch - 8ms/step\n",
      "Epoch 83/100\n",
      "4563/4563 - 36s - loss: 0.7598 - accuracy: 0.7511 - 36s/epoch - 8ms/step\n",
      "Epoch 84/100\n",
      "4563/4563 - 35s - loss: 0.7601 - accuracy: 0.7516 - 35s/epoch - 8ms/step\n",
      "Epoch 85/100\n",
      "4563/4563 - 35s - loss: 0.7598 - accuracy: 0.7513 - 35s/epoch - 8ms/step\n",
      "Epoch 86/100\n",
      "4563/4563 - 35s - loss: 0.7589 - accuracy: 0.7521 - 35s/epoch - 8ms/step\n",
      "Epoch 87/100\n",
      "4563/4563 - 35s - loss: 0.7585 - accuracy: 0.7520 - 35s/epoch - 8ms/step\n",
      "Epoch 88/100\n",
      "4563/4563 - 35s - loss: 0.7588 - accuracy: 0.7516 - 35s/epoch - 8ms/step\n",
      "Epoch 89/100\n",
      "4563/4563 - 35s - loss: 0.7570 - accuracy: 0.7524 - 35s/epoch - 8ms/step\n",
      "Epoch 90/100\n",
      "4563/4563 - 35s - loss: 0.7565 - accuracy: 0.7530 - 35s/epoch - 8ms/step\n",
      "Epoch 91/100\n",
      "4563/4563 - 35s - loss: 0.7562 - accuracy: 0.7530 - 35s/epoch - 8ms/step\n",
      "Epoch 92/100\n",
      "4563/4563 - 35s - loss: 0.7567 - accuracy: 0.7526 - 35s/epoch - 8ms/step\n",
      "Epoch 93/100\n",
      "4563/4563 - 35s - loss: 0.7564 - accuracy: 0.7527 - 35s/epoch - 8ms/step\n",
      "Epoch 94/100\n",
      "4563/4563 - 35s - loss: 0.7554 - accuracy: 0.7521 - 35s/epoch - 8ms/step\n",
      "Epoch 95/100\n",
      "4563/4563 - 35s - loss: 0.7533 - accuracy: 0.7534 - 35s/epoch - 8ms/step\n",
      "Epoch 96/100\n",
      "4563/4563 - 35s - loss: 0.7553 - accuracy: 0.7524 - 35s/epoch - 8ms/step\n",
      "Epoch 97/100\n",
      "4563/4563 - 35s - loss: 0.7537 - accuracy: 0.7531 - 35s/epoch - 8ms/step\n",
      "Epoch 98/100\n",
      "4563/4563 - 35s - loss: 0.7524 - accuracy: 0.7541 - 35s/epoch - 8ms/step\n",
      "Epoch 99/100\n",
      "4563/4563 - 35s - loss: 0.7539 - accuracy: 0.7530 - 35s/epoch - 8ms/step\n",
      "Epoch 100/100\n",
      "4563/4563 - 34s - loss: 0.7527 - accuracy: 0.7537 - 34s/epoch - 8ms/step\n"
     ]
    },
    {
     "name": "stderr",
     "output_type": "stream",
     "text": [
      "WARNING:absl:Found untraced functions such as lstm_cell_2_layer_call_fn, lstm_cell_2_layer_call_and_return_conditional_losses while saving (showing 2 of 2). These functions will not be directly callable after loading.\n"
     ]
    },
    {
     "name": "stdout",
     "output_type": "stream",
     "text": [
      "INFO:tensorflow:Assets written to: model\\assets\n"
     ]
    },
    {
     "name": "stderr",
     "output_type": "stream",
     "text": [
      "INFO:tensorflow:Assets written to: model\\assets\n"
     ]
    }
   ],
   "source": [
    "model=tf.keras.models.Sequential([\n",
    "    tf.keras.layers.LSTM(100,input_shape=(25,31)), # 하나의 데이터 input_shape/ activation function 안넣어도 됨.\n",
    "    tf.keras.layers.Dense(31,activation='softmax')\n",
    "])\n",
    "\n",
    "model.compile(loss='categorical_crossentropy',optimizer='adam',metrics=['accuracy']) # 원핫 인코딩이면 sparse 안써도 됨.\n",
    "model.fit(X,Y,batch_size=64,epochs=100,verbose=2) #64개 데이터 학습한 후에 w 값 업데이트 일어나게 하고 싶다 / LSTM epoch 많이 해야됨 / 'verbose=2' 파라미터는 학습중 출력되는 것좀 줄이는 것\n",
    "model.save('model')"
   ]
  },
  {
   "cell_type": "code",
   "execution_count": null,
   "id": "ce2ab354-bfae-4b5c-aea2-1457c73d8bde",
   "metadata": {},
   "outputs": [],
   "source": []
  }
 ],
 "metadata": {
  "kernelspec": {
   "display_name": "tf",
   "language": "python",
   "name": "tf"
  },
  "language_info": {
   "codemirror_mode": {
    "name": "ipython",
    "version": 3
   },
   "file_extension": ".py",
   "mimetype": "text/x-python",
   "name": "python",
   "nbconvert_exporter": "python",
   "pygments_lexer": "ipython3",
   "version": "3.10.0"
  }
 },
 "nbformat": 4,
 "nbformat_minor": 5
}
