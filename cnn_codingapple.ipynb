{
 "cells": [
  {
   "cell_type": "code",
   "execution_count": 1,
   "id": "47a1809d-66dd-45f7-9fe1-e3620886c32b",
   "metadata": {
    "tags": []
   },
   "outputs": [],
   "source": [
    "import tensorflow as tf"
   ]
  },
  {
   "cell_type": "code",
   "execution_count": 7,
   "id": "2dc2b886-6b5f-463a-8884-e922a8fba9cc",
   "metadata": {
    "tags": []
   },
   "outputs": [],
   "source": [
    "import matplotlib.pyplot as plt"
   ]
  },
  {
   "cell_type": "code",
   "execution_count": 26,
   "id": "2ba6341a-297e-483f-b4da-f666df53e219",
   "metadata": {
    "tags": []
   },
   "outputs": [],
   "source": [
    "import numpy as np"
   ]
  },
  {
   "cell_type": "code",
   "execution_count": 2,
   "id": "f303e2cf-379e-4aa1-af28-fb5f1d669584",
   "metadata": {
    "tags": []
   },
   "outputs": [
    {
     "name": "stdout",
     "output_type": "stream",
     "text": [
      "Downloading data from https://storage.googleapis.com/tensorflow/tf-keras-datasets/train-labels-idx1-ubyte.gz\n",
      "29515/29515 [==============================] - 0s 4us/step\n",
      "Downloading data from https://storage.googleapis.com/tensorflow/tf-keras-datasets/train-images-idx3-ubyte.gz\n",
      "26421880/26421880 [==============================] - 2s 0us/step\n",
      "Downloading data from https://storage.googleapis.com/tensorflow/tf-keras-datasets/t10k-labels-idx1-ubyte.gz\n",
      "5148/5148 [==============================] - 0s 0s/step\n",
      "Downloading data from https://storage.googleapis.com/tensorflow/tf-keras-datasets/t10k-images-idx3-ubyte.gz\n",
      "4422102/4422102 [==============================] - 1s 0us/step\n"
     ]
    }
   ],
   "source": [
    "((trainX,trainY),(testX,testY))=tf.keras.datasets.fashion_mnist.load_data()"
   ]
  },
  {
   "cell_type": "code",
   "execution_count": 27,
   "id": "c0f48929-d660-463f-ad81-e46e7b312dce",
   "metadata": {
    "tags": []
   },
   "outputs": [],
   "source": [
    "# print(trainX.shape)"
   ]
  },
  {
   "cell_type": "code",
   "execution_count": 28,
   "id": "0743858e-46ba-41f6-b5f5-43d8d019e108",
   "metadata": {
    "tags": []
   },
   "outputs": [],
   "source": [
    "trainX=trainX / 255.0\n",
    "testX=testX / 255.0"
   ]
  },
  {
   "cell_type": "code",
   "execution_count": 36,
   "id": "0ffba6ef-6a41-4dfb-b328-c4910989e5ba",
   "metadata": {
    "tags": []
   },
   "outputs": [],
   "source": [
    "traiaX=trainX.reshape((trainX.shape[0],28,28,1))\n",
    "testX=testX.reshape((testX.shape[0],28,28,1))\n"
   ]
  },
  {
   "cell_type": "code",
   "execution_count": 37,
   "id": "50e2ed4b-349a-48d0-b53a-271d5fb27790",
   "metadata": {
    "tags": []
   },
   "outputs": [],
   "source": [
    "# plt.imshow(trainX[1])\n",
    "# plt.gray()\n",
    "# plt.colorbar()\n",
    "# plt.show()"
   ]
  },
  {
   "cell_type": "code",
   "execution_count": 38,
   "id": "62808dd9-9e82-4643-a949-eedc2ff732d7",
   "metadata": {
    "tags": []
   },
   "outputs": [],
   "source": [
    "class_names = ['T-shirt/top','Trouser','Pullover','Dress','Coat','Sandal','Shirt','Sneaker','Bag','Ankleboot']"
   ]
  },
  {
   "cell_type": "code",
   "execution_count": 43,
   "id": "fee86266-f821-4b17-ad18-88654b8ef3cc",
   "metadata": {
    "tags": []
   },
   "outputs": [],
   "source": [
    "model=tf.keras.Sequential([\n",
    "    tf.keras.layers.Conv2D(32,(3,3),padding=\"same\",activation='relu',input_shape=(28,28,1)), #이미지데이터는 0~255 숫자 , 음수 내보내지 않기 위해 // input_shape 컬러사진일때는 28,28,3 (RGB 때문)\n",
    "    tf.keras.layers.MaxPooling2D((2,2)),\n",
    "    # tf.keras.layers.Dense(128,input_shape=(28,28),activation=\"relu\"),\n",
    "    \n",
    "    tf.keras.layers.Flatten(), # 2d data -> 1d data\n",
    "    tf.keras.layers.Dense(128,activation=\"relu\"),\n",
    "    tf.keras.layers.Dense(10,activation=\"softmax\"), # convol 2D > pool layer > flatten > dense\n",
    "])  \n",
    "#sigmoid = binary prediction (finally number of node = 1)\n",
    "#softmax = category prediction (finally number of node > 1)"
   ]
  },
  {
   "cell_type": "code",
   "execution_count": 44,
   "id": "c58bf557-703f-4631-a87c-d5d1a5cba759",
   "metadata": {
    "tags": []
   },
   "outputs": [
    {
     "name": "stdout",
     "output_type": "stream",
     "text": [
      "Model: \"sequential_4\"\n",
      "_________________________________________________________________\n",
      " Layer (type)                Output Shape              Param #   \n",
      "=================================================================\n",
      " conv2d_4 (Conv2D)           (None, 28, 28, 32)        320       \n",
      "                                                                 \n",
      " max_pooling2d (MaxPooling2D  (None, 14, 14, 32)       0         \n",
      " )                                                               \n",
      "                                                                 \n",
      " flatten_2 (Flatten)         (None, 6272)              0         \n",
      "                                                                 \n",
      " dense_12 (Dense)            (None, 128)               802944    \n",
      "                                                                 \n",
      " dense_13 (Dense)            (None, 10)                1290      \n",
      "                                                                 \n",
      "=================================================================\n",
      "Total params: 804,554\n",
      "Trainable params: 804,554\n",
      "Non-trainable params: 0\n",
      "_________________________________________________________________\n"
     ]
    }
   ],
   "source": [
    "model.summary()"
   ]
  },
  {
   "cell_type": "code",
   "execution_count": 45,
   "id": "ae2d4368-f103-41f8-b0ca-3af8bb958f15",
   "metadata": {
    "tags": []
   },
   "outputs": [],
   "source": [
    "model.compile(loss=\"sparse_categorical_crossentropy\", optimizer=\"adam\",metrics=['accuracy'])\n",
    "# sparse_categorical_crossentropy = category prediction 정수로 인코딩 되어있을때 (0,1,2,...)\n",
    "# categorical_crossentropy = category prediction 는 Y데이터가 원핫인코딩 되어있을때 (0 , 1)"
   ]
  },
  {
   "cell_type": "code",
   "execution_count": 48,
   "id": "be15dd3b-9c2a-4824-9148-32770f969739",
   "metadata": {
    "tags": []
   },
   "outputs": [
    {
     "name": "stdout",
     "output_type": "stream",
     "text": [
      "Epoch 1/5\n",
      "1875/1875 [==============================] - 18s 10ms/step - loss: 0.1350 - accuracy: 0.9506 - val_loss: 0.2807 - val_accuracy: 0.9082\n",
      "Epoch 2/5\n",
      "1875/1875 [==============================] - 15s 8ms/step - loss: 0.1122 - accuracy: 0.9589 - val_loss: 0.2842 - val_accuracy: 0.9133\n",
      "Epoch 3/5\n",
      "1875/1875 [==============================] - 18s 10ms/step - loss: 0.0974 - accuracy: 0.9640 - val_loss: 0.2734 - val_accuracy: 0.9178\n",
      "Epoch 4/5\n",
      "1875/1875 [==============================] - 14s 7ms/step - loss: 0.0803 - accuracy: 0.9709 - val_loss: 0.2954 - val_accuracy: 0.9177\n",
      "Epoch 5/5\n",
      "1875/1875 [==============================] - 14s 7ms/step - loss: 0.0674 - accuracy: 0.9751 - val_loss: 0.3156 - val_accuracy: 0.9156\n"
     ]
    },
    {
     "data": {
      "text/plain": [
       "<keras.callbacks.History at 0x1cee2a71de0>"
      ]
     },
     "execution_count": 48,
     "metadata": {},
     "output_type": "execute_result"
    }
   ],
   "source": [
    "model.fit(trainX,trainY,validation_data=(testX,testY),epochs=5) # epoch 1회 끝날 때마다 채점 model.fit 안에 validation_data=(X,Y)"
   ]
  },
  {
   "cell_type": "code",
   "execution_count": 47,
   "id": "5ba342d5-926d-4db8-b4d9-1aa07362520f",
   "metadata": {
    "tags": []
   },
   "outputs": [
    {
     "name": "stdout",
     "output_type": "stream",
     "text": [
      "313/313 [==============================] - 3s 9ms/step - loss: 0.2563 - accuracy: 0.9095\n",
      "[0.256305992603302, 0.909500002861023]\n"
     ]
    }
   ],
   "source": [
    "# score=model.evaluate(testX,testY)\n",
    "# print(score)"
   ]
  },
  {
   "cell_type": "code",
   "execution_count": null,
   "id": "3010cbab-840e-41e9-9a05-0c3ee467b495",
   "metadata": {},
   "outputs": [],
   "source": []
  }
 ],
 "metadata": {
  "kernelspec": {
   "display_name": "tf",
   "language": "python",
   "name": "tf"
  },
  "language_info": {
   "codemirror_mode": {
    "name": "ipython",
    "version": 3
   },
   "file_extension": ".py",
   "mimetype": "text/x-python",
   "name": "python",
   "nbconvert_exporter": "python",
   "pygments_lexer": "ipython3",
   "version": "3.10.0"
  }
 },
 "nbformat": 4,
 "nbformat_minor": 5
}
