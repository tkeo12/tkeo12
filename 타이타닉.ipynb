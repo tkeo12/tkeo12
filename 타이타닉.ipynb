{
 "cells": [
  {
   "cell_type": "code",
   "execution_count": 1,
   "id": "ccb34d4b-b9e0-43fb-b2fd-b71da102054a",
   "metadata": {},
   "outputs": [
    {
     "data": {
      "text/plain": [
       "'C:\\\\Users\\\\tkeo1\\\\OneDrive\\\\바탕 화면\\\\coding\\\\Python'"
      ]
     },
     "execution_count": 1,
     "metadata": {},
     "output_type": "execute_result"
    }
   ],
   "source": [
    "import os\n",
    "os.getcwd()"
   ]
  },
  {
   "cell_type": "code",
   "execution_count": 29,
   "id": "9ff58513-7383-40cc-8ed5-6e9411d59456",
   "metadata": {},
   "outputs": [],
   "source": [
    "import pandas as pd\n",
    "data=pd.read_csv('./data/titanic/train.csv')"
   ]
  },
  {
   "cell_type": "code",
   "execution_count": 30,
   "id": "962d5381-e543-490f-91b8-26f8fadc280d",
   "metadata": {
    "scrolled": true
   },
   "outputs": [
    {
     "name": "stdout",
     "output_type": "stream",
     "text": [
      "     PassengerId  Survived  Pclass  \\\n",
      "0              1         0       3   \n",
      "1              2         1       1   \n",
      "2              3         1       3   \n",
      "3              4         1       1   \n",
      "4              5         0       3   \n",
      "..           ...       ...     ...   \n",
      "886          887         0       2   \n",
      "887          888         1       1   \n",
      "888          889         0       3   \n",
      "889          890         1       1   \n",
      "890          891         0       3   \n",
      "\n",
      "                                                  Name     Sex   Age  SibSp  \\\n",
      "0                              Braund, Mr. Owen Harris    male  22.0      1   \n",
      "1    Cumings, Mrs. John Bradley (Florence Briggs Th...  female  38.0      1   \n",
      "2                               Heikkinen, Miss. Laina  female  26.0      0   \n",
      "3         Futrelle, Mrs. Jacques Heath (Lily May Peel)  female  35.0      1   \n",
      "4                             Allen, Mr. William Henry    male  35.0      0   \n",
      "..                                                 ...     ...   ...    ...   \n",
      "886                              Montvila, Rev. Juozas    male  27.0      0   \n",
      "887                       Graham, Miss. Margaret Edith  female  19.0      0   \n",
      "888           Johnston, Miss. Catherine Helen \"Carrie\"  female   NaN      1   \n",
      "889                              Behr, Mr. Karl Howell    male  26.0      0   \n",
      "890                                Dooley, Mr. Patrick    male  32.0      0   \n",
      "\n",
      "     Parch            Ticket     Fare Embarked  \n",
      "0        0         A/5 21171   7.2500        S  \n",
      "1        0          PC 17599  71.2833        C  \n",
      "2        0  STON/O2. 3101282   7.9250        S  \n",
      "3        0            113803  53.1000        S  \n",
      "4        0            373450   8.0500        S  \n",
      "..     ...               ...      ...      ...  \n",
      "886      0            211536  13.0000        S  \n",
      "887      0            112053  30.0000        S  \n",
      "888      2        W./C. 6607  23.4500        S  \n",
      "889      0            111369  30.0000        C  \n",
      "890      0            370376   7.7500        Q  \n",
      "\n",
      "[891 rows x 11 columns]\n"
     ]
    }
   ],
   "source": [
    "print(data)"
   ]
  },
  {
   "cell_type": "code",
   "execution_count": 31,
   "id": "2be831d7-dde0-4151-bae8-33d1bd20876f",
   "metadata": {},
   "outputs": [
    {
     "name": "stdout",
     "output_type": "stream",
     "text": [
      "PassengerId      0\n",
      "Survived         0\n",
      "Pclass           0\n",
      "Name             0\n",
      "Sex              0\n",
      "Age            177\n",
      "SibSp            0\n",
      "Parch            0\n",
      "Ticket           0\n",
      "Fare             0\n",
      "Embarked         2\n",
      "dtype: int64\n"
     ]
    }
   ],
   "source": [
    "print(data.isnull().sum())"
   ]
  },
  {
   "cell_type": "code",
   "execution_count": 32,
   "id": "c860ba97-93b3-48f9-ace6-be50220a03f4",
   "metadata": {},
   "outputs": [
    {
     "name": "stdout",
     "output_type": "stream",
     "text": [
      "29.69911764705882\n"
     ]
    }
   ],
   "source": [
    "평균=data['Age'].mean()\n",
    "print(평균)\n",
    "data['Age'].fillna(value=30, inplace=True)"
   ]
  },
  {
   "cell_type": "code",
   "execution_count": 33,
   "id": "43a0347b-2b21-4076-abb6-22122c4d1d89",
   "metadata": {},
   "outputs": [
    {
     "name": "stdout",
     "output_type": "stream",
     "text": [
      "0    S\n",
      "Name: Embarked, dtype: object\n"
     ]
    }
   ],
   "source": [
    "최빈값=data['Embarked'].mode()\n",
    "print(최빈값)\n",
    "data['Embarked'].fillna(value='S',inplace=True)"
   ]
  },
  {
   "cell_type": "code",
   "execution_count": 34,
   "id": "fd3e5fd7-ef14-4f7e-9e42-3127c2e75bfd",
   "metadata": {},
   "outputs": [
    {
     "name": "stdout",
     "output_type": "stream",
     "text": [
      "<TensorSliceDataset element_spec=({'PassengerId': TensorSpec(shape=(), dtype=tf.int64, name=None), 'Pclass': TensorSpec(shape=(), dtype=tf.int64, name=None), 'Name': TensorSpec(shape=(), dtype=tf.string, name=None), 'Sex': TensorSpec(shape=(), dtype=tf.string, name=None), 'Age': TensorSpec(shape=(), dtype=tf.float64, name=None), 'SibSp': TensorSpec(shape=(), dtype=tf.int64, name=None), 'Parch': TensorSpec(shape=(), dtype=tf.int64, name=None), 'Ticket': TensorSpec(shape=(), dtype=tf.string, name=None), 'Fare': TensorSpec(shape=(), dtype=tf.float64, name=None), 'Embarked': TensorSpec(shape=(), dtype=tf.string, name=None)}, TensorSpec(shape=(), dtype=tf.int64, name=None))>\n"
     ]
    }
   ],
   "source": [
    "import tensorflow as tf\n",
    "\n",
    "정답=data.pop('Survived')\n",
    "\n",
    "\n",
    "ds=tf.data.Dataset.from_tensor_slices((dict(data),정답))\n",
    "print(ds)\n"
   ]
  },
  {
   "cell_type": "code",
   "execution_count": 35,
   "id": "6a6797de-75d5-4601-b539-6c66346a194d",
   "metadata": {},
   "outputs": [
    {
     "name": "stdout",
     "output_type": "stream",
     "text": [
      "NumericColumn(key='Age', shape=(1,), default_value=None, dtype=tf.float32, normalizer_fn=None)\n",
      "[NumericColumn(key='Fare', shape=(1,), default_value=None, dtype=tf.float32, normalizer_fn=None), NumericColumn(key='Parch', shape=(1,), default_value=None, dtype=tf.float32, normalizer_fn=None), NumericColumn(key='SibSp', shape=(1,), default_value=None, dtype=tf.float32, normalizer_fn=None)]\n"
     ]
    }
   ],
   "source": [
    "feature_columns=[]\n",
    "\n",
    "#숫자로 Fare Parch SibSp : numeric_column\n",
    "#범위로 Age : bucketized_column\n",
    "#종류 몇개 없는 카테고리화 Sex Embarked Pclass : indicator_column\n",
    "#종류가 많은 카테고리 Ticket : embedding_column\n",
    "def 노말라이저함수(x):\n",
    "    최소=data['Fare'].min()\n",
    "    최대=data['Fare'].max()\n",
    "    return (x-최소)/(최대-최소)\n",
    "feature_columns.append(tf.feature_column.numeric_column('Fare',normalizer_fn=노말라이저함수))\n",
    "feature_columns.append(tf.feature_column.numeric_column('Parch'))\n",
    "feature_columns.append(tf.feature_column.numeric_column('SibSp'))\n",
    "# feature_columns.append(tf.feature_column.numeric_column('Age'))\n",
    "\n",
    "Age=tf.feature_column.numeric_column('Age')\n",
    "Age_bucket=tf.feature_column.bucketized_column(Age,boundaries=[10,20,30,40,50,60])\n",
    "(tf.feature_column.numeric_column('Age_bucket'))\n",
    "print(Age)\n",
    "print(feature_columns)"
   ]
  },
  {
   "cell_type": "code",
   "execution_count": 36,
   "id": "e137a9cb-3118-49f0-b9bd-4170ce3cb328",
   "metadata": {},
   "outputs": [],
   "source": [
    "vocab=data['Sex'].unique()\n",
    "cat=tf.feature_column.sequence_categorical_column_with_vocabulary_list('Sex',vocab)\n",
    "one_hot=tf.feature_column.indicator_column(cat)\n",
    "feature_columns.append(one_hot)\n",
    "\n",
    "vocab=data['Embarked'].unique()\n",
    "cat=tf.feature_column.sequence_categorical_column_with_vocabulary_list('Embarked',vocab)\n",
    "one_hot=tf.feature_column.indicator_column(cat)\n",
    "feature_columns.append(one_hot)\n",
    "\n",
    "vocab=data['Pclass'].unique()\n",
    "cat=tf.feature_column.sequence_categorical_column_with_vocabulary_list('Pclass',vocab)\n",
    "one_hot=tf.feature_column.indicator_column(cat)\n",
    "feature_columns.append(one_hot)\n",
    "\n",
    "#embedding _ ticket\n",
    "vocab=data['Ticket'].unique()\n",
    "cat=tf.feature_column.sequence_categorical_column_with_vocabulary_list('Ticket',vocab)\n",
    "one_hot=tf.feature_column.embedding_column(cat,dimension=9)\n",
    "feature_columns.append(one_hot)\n"
   ]
  },
  {
   "cell_type": "code",
   "execution_count": 39,
   "id": "efd17719-201c-4552-b69e-a11a25780929",
   "metadata": {},
   "outputs": [
    {
     "data": {
      "text/plain": [
       "<tf.Tensor: shape=(32, 1), dtype=float32, numpy=\n",
       "array([[  7.25  ],\n",
       "       [ 71.2833],\n",
       "       [  7.925 ],\n",
       "       [ 53.1   ],\n",
       "       [  8.05  ],\n",
       "       [  8.4583],\n",
       "       [ 51.8625],\n",
       "       [ 21.075 ],\n",
       "       [ 11.1333],\n",
       "       [ 30.0708],\n",
       "       [ 16.7   ],\n",
       "       [ 26.55  ],\n",
       "       [  8.05  ],\n",
       "       [ 31.275 ],\n",
       "       [  7.8542],\n",
       "       [ 16.    ],\n",
       "       [ 29.125 ],\n",
       "       [ 13.    ],\n",
       "       [ 18.    ],\n",
       "       [  7.225 ],\n",
       "       [ 26.    ],\n",
       "       [ 13.    ],\n",
       "       [  8.0292],\n",
       "       [ 35.5   ],\n",
       "       [ 21.075 ],\n",
       "       [ 31.3875],\n",
       "       [  7.225 ],\n",
       "       [263.    ],\n",
       "       [  7.8792],\n",
       "       [  7.8958],\n",
       "       [ 27.7208],\n",
       "       [146.5208]], dtype=float32)>"
      ]
     },
     "execution_count": 39,
     "metadata": {},
     "output_type": "execute_result"
    }
   ],
   "source": [
    "ds_batch=ds.batch(32)\n",
    "next(iter(ds_batch))[0]\n",
    "feature_layer=tf.keras.layers.DenseFeatures(tf.feature_column.numeric_column('Fare'))\n",
    "feature_layer(next(iter(ds_batch))[0])"
   ]
  },
  {
   "cell_type": "code",
   "execution_count": 40,
   "id": "00285102-a07d-490c-83b1-f22937c5d2e7",
   "metadata": {},
   "outputs": [
    {
     "name": "stdout",
     "output_type": "stream",
     "text": [
      "Epoch 1/20\n",
      "WARNING:tensorflow:Layers in a Sequential model should only have a single input tensor. Received: inputs={'PassengerId': <tf.Tensor 'IteratorGetNext:5' shape=() dtype=int64>, 'Pclass': <tf.Tensor 'IteratorGetNext:6' shape=() dtype=int64>, 'Name': <tf.Tensor 'IteratorGetNext:3' shape=() dtype=string>, 'Sex': <tf.Tensor 'IteratorGetNext:7' shape=() dtype=string>, 'Age': <tf.Tensor 'IteratorGetNext:0' shape=() dtype=float64>, 'SibSp': <tf.Tensor 'IteratorGetNext:8' shape=() dtype=int64>, 'Parch': <tf.Tensor 'IteratorGetNext:4' shape=() dtype=int64>, 'Ticket': <tf.Tensor 'IteratorGetNext:9' shape=() dtype=string>, 'Fare': <tf.Tensor 'IteratorGetNext:2' shape=() dtype=float64>, 'Embarked': <tf.Tensor 'IteratorGetNext:1' shape=() dtype=string>}. Consider rewriting this model with the Functional API.\n"
     ]
    },
    {
     "ename": "ValueError",
     "evalue": "in user code:\n\n    File \"C:\\Users\\tkeo1\\anaconda3\\envs\\tf\\lib\\site-packages\\keras\\engine\\training.py\", line 1160, in train_function  *\n        return step_function(self, iterator)\n    File \"C:\\Users\\tkeo1\\anaconda3\\envs\\tf\\lib\\site-packages\\keras\\engine\\training.py\", line 1146, in step_function  **\n        outputs = model.distribute_strategy.run(run_step, args=(data,))\n    File \"C:\\Users\\tkeo1\\anaconda3\\envs\\tf\\lib\\site-packages\\keras\\engine\\training.py\", line 1135, in run_step  **\n        outputs = model.train_step(data)\n    File \"C:\\Users\\tkeo1\\anaconda3\\envs\\tf\\lib\\site-packages\\keras\\engine\\training.py\", line 993, in train_step\n        y_pred = self(x, training=True)\n    File \"C:\\Users\\tkeo1\\anaconda3\\envs\\tf\\lib\\site-packages\\keras\\utils\\traceback_utils.py\", line 70, in error_handler\n        raise e.with_traceback(filtered_tb) from None\n\n    ValueError: Exception encountered when calling layer \"dense_features_6\" \"                 f\"(type DenseFeatures).\n    \n    In indicator_column: Embarked_indicator. categorical_column must not be of type SequenceCategoricalColumn. Suggested fix A: If you wish to use DenseFeatures, use a non-sequence categorical_column_with_*. Suggested fix B: If you wish to create sequence input, use SequenceFeatures instead of DenseFeatures. Given (type <class 'tensorflow.python.feature_column.feature_column_v2.SequenceCategoricalColumn'>): SequenceCategoricalColumn(categorical_column=VocabularyListCategoricalColumn(key='Embarked', vocabulary_list=('S', 'C', 'Q'), dtype=tf.string, default_value=-1, num_oov_buckets=0))\n    \n    Call arguments received by layer \"dense_features_6\" \"                 f\"(type DenseFeatures):\n      • features={'PassengerId': 'tf.Tensor(shape=(), dtype=int64)', 'Pclass': 'tf.Tensor(shape=(), dtype=int64)', 'Name': 'tf.Tensor(shape=(), dtype=string)', 'Sex': 'tf.Tensor(shape=(), dtype=string)', 'Age': 'tf.Tensor(shape=(), dtype=float32)', 'SibSp': 'tf.Tensor(shape=(), dtype=int64)', 'Parch': 'tf.Tensor(shape=(), dtype=int64)', 'Ticket': 'tf.Tensor(shape=(), dtype=string)', 'Fare': 'tf.Tensor(shape=(), dtype=float32)', 'Embarked': 'tf.Tensor(shape=(), dtype=string)'}\n      • cols_to_output_tensors=None\n      • training=True\n",
     "output_type": "error",
     "traceback": [
      "\u001b[1;31m---------------------------------------------------------------------------\u001b[0m",
      "\u001b[1;31mValueError\u001b[0m                                Traceback (most recent call last)",
      "Cell \u001b[1;32mIn[40], line 11\u001b[0m\n\u001b[0;32m      9\u001b[0m model\u001b[38;5;241m.\u001b[39mcompile(optimizer\u001b[38;5;241m=\u001b[39m\u001b[38;5;124m'\u001b[39m\u001b[38;5;124madam\u001b[39m\u001b[38;5;124m'\u001b[39m,loss\u001b[38;5;241m=\u001b[39m\u001b[38;5;124m'\u001b[39m\u001b[38;5;124mbinary_crossentropy\u001b[39m\u001b[38;5;124m'\u001b[39m,metrics\u001b[38;5;241m=\u001b[39m[\u001b[38;5;124m'\u001b[39m\u001b[38;5;124macc\u001b[39m\u001b[38;5;124m'\u001b[39m])\n\u001b[0;32m     10\u001b[0m ds_batch\u001b[38;5;241m=\u001b[39mds\u001b[38;5;241m.\u001b[39mbatch(\u001b[38;5;241m32\u001b[39m)\n\u001b[1;32m---> 11\u001b[0m \u001b[43mmodel\u001b[49m\u001b[38;5;241;43m.\u001b[39;49m\u001b[43mfit\u001b[49m\u001b[43m(\u001b[49m\u001b[43mds\u001b[49m\u001b[43m,\u001b[49m\u001b[43mshuffle\u001b[49m\u001b[38;5;241;43m=\u001b[39;49m\u001b[38;5;28;43;01mTrue\u001b[39;49;00m\u001b[43m,\u001b[49m\u001b[43mepochs\u001b[49m\u001b[38;5;241;43m=\u001b[39;49m\u001b[38;5;241;43m20\u001b[39;49m\u001b[43m)\u001b[49m\n",
      "File \u001b[1;32m~\\anaconda3\\envs\\tf\\lib\\site-packages\\keras\\utils\\traceback_utils.py:70\u001b[0m, in \u001b[0;36mfilter_traceback.<locals>.error_handler\u001b[1;34m(*args, **kwargs)\u001b[0m\n\u001b[0;32m     67\u001b[0m     filtered_tb \u001b[38;5;241m=\u001b[39m _process_traceback_frames(e\u001b[38;5;241m.\u001b[39m__traceback__)\n\u001b[0;32m     68\u001b[0m     \u001b[38;5;66;03m# To get the full stack trace, call:\u001b[39;00m\n\u001b[0;32m     69\u001b[0m     \u001b[38;5;66;03m# `tf.debugging.disable_traceback_filtering()`\u001b[39;00m\n\u001b[1;32m---> 70\u001b[0m     \u001b[38;5;28;01mraise\u001b[39;00m e\u001b[38;5;241m.\u001b[39mwith_traceback(filtered_tb) \u001b[38;5;28;01mfrom\u001b[39;00m \u001b[38;5;28;01mNone\u001b[39;00m\n\u001b[0;32m     71\u001b[0m \u001b[38;5;28;01mfinally\u001b[39;00m:\n\u001b[0;32m     72\u001b[0m     \u001b[38;5;28;01mdel\u001b[39;00m filtered_tb\n",
      "File \u001b[1;32m~\\AppData\\Local\\Temp\\__autograph_generated_filesar46394.py:15\u001b[0m, in \u001b[0;36mouter_factory.<locals>.inner_factory.<locals>.tf__train_function\u001b[1;34m(iterator)\u001b[0m\n\u001b[0;32m     13\u001b[0m \u001b[38;5;28;01mtry\u001b[39;00m:\n\u001b[0;32m     14\u001b[0m     do_return \u001b[38;5;241m=\u001b[39m \u001b[38;5;28;01mTrue\u001b[39;00m\n\u001b[1;32m---> 15\u001b[0m     retval_ \u001b[38;5;241m=\u001b[39m ag__\u001b[38;5;241m.\u001b[39mconverted_call(ag__\u001b[38;5;241m.\u001b[39mld(step_function), (ag__\u001b[38;5;241m.\u001b[39mld(\u001b[38;5;28mself\u001b[39m), ag__\u001b[38;5;241m.\u001b[39mld(iterator)), \u001b[38;5;28;01mNone\u001b[39;00m, fscope)\n\u001b[0;32m     16\u001b[0m \u001b[38;5;28;01mexcept\u001b[39;00m:\n\u001b[0;32m     17\u001b[0m     do_return \u001b[38;5;241m=\u001b[39m \u001b[38;5;28;01mFalse\u001b[39;00m\n",
      "\u001b[1;31mValueError\u001b[0m: in user code:\n\n    File \"C:\\Users\\tkeo1\\anaconda3\\envs\\tf\\lib\\site-packages\\keras\\engine\\training.py\", line 1160, in train_function  *\n        return step_function(self, iterator)\n    File \"C:\\Users\\tkeo1\\anaconda3\\envs\\tf\\lib\\site-packages\\keras\\engine\\training.py\", line 1146, in step_function  **\n        outputs = model.distribute_strategy.run(run_step, args=(data,))\n    File \"C:\\Users\\tkeo1\\anaconda3\\envs\\tf\\lib\\site-packages\\keras\\engine\\training.py\", line 1135, in run_step  **\n        outputs = model.train_step(data)\n    File \"C:\\Users\\tkeo1\\anaconda3\\envs\\tf\\lib\\site-packages\\keras\\engine\\training.py\", line 993, in train_step\n        y_pred = self(x, training=True)\n    File \"C:\\Users\\tkeo1\\anaconda3\\envs\\tf\\lib\\site-packages\\keras\\utils\\traceback_utils.py\", line 70, in error_handler\n        raise e.with_traceback(filtered_tb) from None\n\n    ValueError: Exception encountered when calling layer \"dense_features_6\" \"                 f\"(type DenseFeatures).\n    \n    In indicator_column: Embarked_indicator. categorical_column must not be of type SequenceCategoricalColumn. Suggested fix A: If you wish to use DenseFeatures, use a non-sequence categorical_column_with_*. Suggested fix B: If you wish to create sequence input, use SequenceFeatures instead of DenseFeatures. Given (type <class 'tensorflow.python.feature_column.feature_column_v2.SequenceCategoricalColumn'>): SequenceCategoricalColumn(categorical_column=VocabularyListCategoricalColumn(key='Embarked', vocabulary_list=('S', 'C', 'Q'), dtype=tf.string, default_value=-1, num_oov_buckets=0))\n    \n    Call arguments received by layer \"dense_features_6\" \"                 f\"(type DenseFeatures):\n      • features={'PassengerId': 'tf.Tensor(shape=(), dtype=int64)', 'Pclass': 'tf.Tensor(shape=(), dtype=int64)', 'Name': 'tf.Tensor(shape=(), dtype=string)', 'Sex': 'tf.Tensor(shape=(), dtype=string)', 'Age': 'tf.Tensor(shape=(), dtype=float32)', 'SibSp': 'tf.Tensor(shape=(), dtype=int64)', 'Parch': 'tf.Tensor(shape=(), dtype=int64)', 'Ticket': 'tf.Tensor(shape=(), dtype=string)', 'Fare': 'tf.Tensor(shape=(), dtype=float32)', 'Embarked': 'tf.Tensor(shape=(), dtype=string)'}\n      • cols_to_output_tensors=None\n      • training=True\n"
     ]
    }
   ],
   "source": [
    "model=tf.keras.Sequential([\n",
    "    tf.keras.layers.DenseFeatures(feature_columns),\n",
    "    tf.keras.layers.Dense(128,activation='relu'),\n",
    "    tf.keras.layers.Dense(64,activation='relu'),\n",
    "    tf.keras.layers.Dropout(0.2),\n",
    "    tf.keras.layers.Dense(1,activation='sigmoid'),\n",
    "])\n",
    "\n",
    "model.compile(optimizer='adam',loss='binary_crossentropy',metrics=['acc'])\n",
    "ds_batch=ds.batch(32)\n",
    "\n",
    "model.fit(ds,validation_data=(),shuffle=True,epochs=20)\n"
   ]
  },
  {
   "cell_type": "code",
   "execution_count": null,
   "id": "e00f1c74-c9c4-4a09-974e-4882d01949ff",
   "metadata": {},
   "outputs": [],
   "source": []
  }
 ],
 "metadata": {
  "kernelspec": {
   "display_name": "tf",
   "language": "python",
   "name": "tf"
  },
  "language_info": {
   "codemirror_mode": {
    "name": "ipython",
    "version": 3
   },
   "file_extension": ".py",
   "mimetype": "text/x-python",
   "name": "python",
   "nbconvert_exporter": "python",
   "pygments_lexer": "ipython3",
   "version": "3.10.0"
  }
 },
 "nbformat": 4,
 "nbformat_minor": 5
}
