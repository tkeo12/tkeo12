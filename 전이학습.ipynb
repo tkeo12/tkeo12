{
 "cells": [
  {
   "cell_type": "code",
   "execution_count": 3,
   "id": "6b120438-3323-448d-a6e2-6faf2204e2e5",
   "metadata": {},
   "outputs": [
    {
     "data": {
      "text/plain": [
       "'C:\\\\Users\\\\tkeo1\\\\OneDrive\\\\바탕 화면\\\\coding\\\\Python'"
      ]
     },
     "execution_count": 3,
     "metadata": {},
     "output_type": "execute_result"
    }
   ],
   "source": [
    "import os\n",
    "os.getcwd()"
   ]
  },
  {
   "cell_type": "code",
   "execution_count": 4,
   "id": "38a71cdf-adda-4cf3-b0b6-d11b8e33c7f5",
   "metadata": {},
   "outputs": [],
   "source": [
    "os.chdir(\"C:/Users/tkeo1/OneDrive/바탕 화면/coding/Python/data/\")"
   ]
  },
  {
   "cell_type": "code",
   "execution_count": 17,
   "id": "90993154-8247-4706-bf6b-b35c3b3a2a85",
   "metadata": {},
   "outputs": [
    {
     "name": "stdout",
     "output_type": "stream",
     "text": [
      "Found 25000 files belonging to 2 classes.\n",
      "Using 20000 files for training.\n",
      "Found 25000 files belonging to 2 classes.\n",
      "Using 5000 files for validation.\n",
      "<BatchDataset element_spec=(TensorSpec(shape=(None, 150, 150, 3), dtype=tf.float32, name=None), TensorSpec(shape=(None,), dtype=tf.int32, name=None))>\n"
     ]
    }
   ],
   "source": [
    "import tensorflow as tf\n",
    "train_ds = tf.keras.preprocessing.image_dataset_from_directory(\n",
    "    'dataset',\n",
    "    image_size=(150,150),\n",
    "    batch_size=64,               #이미지 2만장 한번에 넣지 않고 batch 숫자만큼 넣음\n",
    "    subset='training',\n",
    "    validation_split=0.2,\n",
    "    seed=1234\n",
    ") # 이미지 숫자화 함수 , 폴더 내 이미지들을 바로 dataset 만들어줌\n",
    "\n",
    "val_ds = tf.keras.preprocessing.image_dataset_from_directory(\n",
    "    'dataset',\n",
    "    image_size=(150,150),\n",
    "    batch_size=64,               #이미지 2만장 한번에 넣지 않고 batch 숫자만큼 넣음\n",
    "    subset='validation',\n",
    "    validation_split=0.2,\n",
    "    seed=1234\n",
    ") # 이미지 숫자화 함수 , 폴더 내 이미지들을 바로 dataset 만들어줌\n",
    "\n",
    "print(train_ds)\n",
    "\n",
    "def 전처리함수(i,정답):\n",
    "    i = tf.cast( i/255.0, tf.float32)\n",
    "    return i, 정답\n",
    "\n",
    "train_ds=train_ds.map(전처리함수)\n",
    "val_ds=val_ds.map(전처리함수)"
   ]
  },
  {
   "cell_type": "code",
   "execution_count": 18,
   "id": "8da7b8e1-65b8-496e-aa87-cf024d6a7d93",
   "metadata": {},
   "outputs": [
    {
     "name": "stdout",
     "output_type": "stream",
     "text": [
      "<keras.layers.merging.concatenate.Concatenate object at 0x000001DB5AC43F70>\n",
      "KerasTensor(type_spec=TensorSpec(shape=(None, 7, 7, 768), dtype=tf.float32, name=None), name='mixed7/concat:0', description=\"created by layer 'mixed7'\")\n",
      "(None, 7, 7, 768)\n"
     ]
    }
   ],
   "source": [
    "from tensorflow.keras.applications.inception_v3 import InceptionV3\n",
    "inception_model=InceptionV3(input_shape=(150,150,3), include_top=False,weights=None) #include_top 마지막 dense layer\n",
    "inception_model.load_weights('C:/Users/tkeo1/Downloads/inception_v3.h5')\n",
    "\n",
    "#inception_model.summary()\n",
    "\n",
    "for i in inception_model.layers: # w값 고정하는 방법 학습금지레이어 설정\n",
    "    i.trainable=False\n",
    "\n",
    "unfreeze=False\n",
    "for i in inception_model.layers:\n",
    "    if i.name=='mixed6':\n",
    "        unfreeze=True\n",
    "    if i.name==True:\n",
    "        i.trainable=True\n",
    "\n",
    "마지막레이어=inception_model.get_layer('mixed7')\n",
    "\n",
    "print(마지막레이어)\n",
    "print(마지막레이어.output)\n",
    "print(마지막레이어.output_shape)"
   ]
  },
  {
   "cell_type": "code",
   "execution_count": 19,
   "id": "63233858-7b2f-40f5-b26c-0677594e2338",
   "metadata": {},
   "outputs": [
    {
     "name": "stdout",
     "output_type": "stream",
     "text": [
      "Epoch 1/2\n",
      "313/313 [==============================] - 146s 457ms/step - loss: 0.1710 - acc: 0.9531 - val_loss: 0.0806 - val_acc: 0.9660\n",
      "Epoch 2/2\n",
      "313/313 [==============================] - 135s 430ms/step - loss: 0.0429 - acc: 0.9842 - val_loss: 0.0743 - val_acc: 0.9714\n"
     ]
    },
    {
     "data": {
      "text/plain": [
       "<keras.callbacks.History at 0x1db58a61b40>"
      ]
     },
     "execution_count": 19,
     "metadata": {},
     "output_type": "execute_result"
    }
   ],
   "source": [
    "import tensorflow as tf\n",
    "\n",
    "layer1=tf.keras.layers.Flatten()(마지막레이어.output)\n",
    "layer2=tf.keras.layers.Dense(1024,activation='relu')(layer1)\n",
    "drop1=tf.keras.layers.Dropout(0.2)(layer2)\n",
    "layer3=tf.keras.layers.Dense(1,activation='sigmoid')(drop1)\n",
    "\n",
    "model=tf.keras.Model(inception_model.input,layer3)\n",
    "\n",
    "model.compile(loss='binary_crossentropy',optimizer='adam',metrics=['acc'])\n",
    "model.fit(train_ds,validation_data=val_ds,epochs=2)"
   ]
  },
  {
   "cell_type": "code",
   "execution_count": 20,
   "id": "ce03ca0c-300d-4df0-b284-205702a30060",
   "metadata": {},
   "outputs": [
    {
     "name": "stdout",
     "output_type": "stream",
     "text": [
      "Epoch 1/2\n"
     ]
    },
    {
     "name": "stderr",
     "output_type": "stream",
     "text": [
      "C:\\Users\\tkeo1\\anaconda3\\envs\\tf\\lib\\site-packages\\keras\\optimizers\\optimizer_v2\\adam.py:114: UserWarning: The `lr` argument is deprecated, use `learning_rate` instead.\n",
      "  super().__init__(name, **kwargs)\n"
     ]
    },
    {
     "name": "stdout",
     "output_type": "stream",
     "text": [
      "313/313 [==============================] - 138s 429ms/step - loss: 0.0148 - acc: 0.9956 - val_loss: 0.0774 - val_acc: 0.9720\n",
      "Epoch 2/2\n",
      "313/313 [==============================] - 134s 428ms/step - loss: 0.0120 - acc: 0.9965 - val_loss: 0.0796 - val_acc: 0.9730\n"
     ]
    },
    {
     "data": {
      "text/plain": [
       "<keras.callbacks.History at 0x1db6def57e0>"
      ]
     },
     "execution_count": 20,
     "metadata": {},
     "output_type": "execute_result"
    }
   ],
   "source": [
    "model.compile(loss='binary_crossentropy',optimizer=tf.keras.optimizers.Adam(lr=0.00001),metrics=['acc'])\n",
    "model.fit(train_ds,validation_data=val_ds,epochs=2)"
   ]
  },
  {
   "cell_type": "code",
   "execution_count": null,
   "id": "1be416b1-d55f-4871-ba26-55f1b85aa9e6",
   "metadata": {},
   "outputs": [],
   "source": []
  }
 ],
 "metadata": {
  "kernelspec": {
   "display_name": "tf",
   "language": "python",
   "name": "tf"
  },
  "language_info": {
   "codemirror_mode": {
    "name": "ipython",
    "version": 3
   },
   "file_extension": ".py",
   "mimetype": "text/x-python",
   "name": "python",
   "nbconvert_exporter": "python",
   "pygments_lexer": "ipython3",
   "version": "3.10.0"
  }
 },
 "nbformat": 4,
 "nbformat_minor": 5
}
