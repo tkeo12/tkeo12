{
 "cells": [
  {
   "cell_type": "code",
   "execution_count": 2,
   "id": "6c17edb2-048f-481e-af80-6a268067cd28",
   "metadata": {},
   "outputs": [
    {
     "name": "stdout",
     "output_type": "stream",
     "text": [
      "Content-Type: multipart/alternative; boundary=\"===============0055150550004258614==\"\n",
      "MIME-Version: 1.0\n",
      "Subject: =?utf-8?b?7J206rKD7J2AIOuplOydvOygnOuqqQ==?=\n",
      "From: tkeo12@naver.com\n",
      "To: =?utf-8?b?6rmA64yA66as?=\n",
      "\n",
      "--===============0055150550004258614==\n",
      "Content-Type: text/html; charset=\"utf-8\"\n",
      "MIME-Version: 1.0\n",
      "Content-Transfer-Encoding: base64\n",
      "\n",
      "CjxoND7qtbXsnYDsoJzrqqk8L2g0Pgo8YnV0dG9uPuuyhO2KvOyeheuLiOuLpDwvYnV0dG9uPgo=\n",
      "\n",
      "--===============0055150550004258614==--\n",
      "\n"
     ]
    }
   ],
   "source": [
    "import smtplib\n",
    "from email.mime.text import MIMEText\n",
    "\n",
    "from email.mime.multipart import MIMEMultipart\n",
    " \n",
    "msg = MIMEMultipart('alternative')\n",
    "내용 = \"\"\"\n",
    "<h4>굵은제목</h4>\n",
    "<button>버튼입니다</button>\n",
    "\"\"\"\n",
    "part1 = MIMEText(내용, \"html\")\n",
    "msg.attach(part1)\n",
    "\n",
    "\n",
    "msg['Subject'] =\"이것은 메일제목\"\n",
    "msg['From'] = 'tkeo12@naver.com'\n",
    "msg['To'] = '김대리'\n",
    "print(msg.as_string())\n",
    " \n",
    "s = smtplib.SMTP( 'smtp.naver.com' , 587 ) \n",
    "s.starttls() #TLS 보안 처리\n",
    "s.login( 'tkeo12' , 'reiran76003719' ) #네이버로그인\n",
    "s.sendmail( 'tkeo12@naver.com', 'tkeo12@naver.com', msg.as_string() )\n",
    "s.close()"
   ]
  },
  {
   "cell_type": "code",
   "execution_count": null,
   "id": "37f775a3-ea1c-4ab5-9fc4-2de655e2e46e",
   "metadata": {},
   "outputs": [],
   "source": []
  }
 ],
 "metadata": {
  "kernelspec": {
   "display_name": "tf",
   "language": "python",
   "name": "tf"
  },
  "language_info": {
   "codemirror_mode": {
    "name": "ipython",
    "version": 3
   },
   "file_extension": ".py",
   "mimetype": "text/x-python",
   "name": "python",
   "nbconvert_exporter": "python",
   "pygments_lexer": "ipython3",
   "version": "3.10.0"
  }
 },
 "nbformat": 4,
 "nbformat_minor": 5
}
